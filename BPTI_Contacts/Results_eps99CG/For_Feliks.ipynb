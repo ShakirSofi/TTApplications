{
 "cells": [
  {
   "cell_type": "code",
   "execution_count": 1,
   "metadata": {
    "collapsed": false
   },
   "outputs": [
    {
     "name": "stdout",
     "output_type": "stream",
     "text": [
      "Populating the interactive namespace from numpy and matplotlib\n"
     ]
    },
    {
     "name": "stderr",
     "output_type": "stream",
     "text": [
      "WARNING: pylab import has clobbered these variables: ['plt']\n",
      "`%matplotlib` prevents importing * from pylab and numpy\n"
     ]
    }
   ],
   "source": [
    "import numpy as np\n",
    "import pyemma.coordinates as coor\n",
    "import matplotlib.pylab as plt\n",
    "import math\n",
    "import mdtraj as md\n",
    "import scipy\n",
    "%pylab inline"
   ]
  },
  {
   "cell_type": "code",
   "execution_count": 85,
   "metadata": {
    "collapsed": true
   },
   "outputs": [],
   "source": [
    "trajfile = 'all.dcd'\n",
    "topfile = 'bpti_ca.pdb'"
   ]
  },
  {
   "cell_type": "code",
   "execution_count": 96,
   "metadata": {
    "collapsed": false
   },
   "outputs": [
    {
     "name": "stdout",
     "output_type": "stream",
     "text": [
      "(41250, 1540)\n",
      "(41250, 1540)\n"
     ]
    }
   ],
   "source": [
    "nskip = 100\n",
    "feat = coor.featurizer(topfile)\n",
    "#all_heavy_atoms = feat.select_Heavy()\n",
    "#feat.add_distances(feat.pairs(all_heavy_atoms))\n",
    "#feat.add_all()\n",
    "\n",
    "feat.add_distances_ca()\n",
    "X = coor.load(trajfile, feat, stride=nskip)\n",
    "print(X.shape)\n",
    "allframes = X.shape[0]"
   ]
  },
  {
   "cell_type": "code",
   "execution_count": 171,
   "metadata": {
    "collapsed": false
   },
   "outputs": [],
   "source": [
    "r1 = X/0.07\n",
    "num1 = np.log(1+r1)+np.log(1+r1**2)+np.log(1+r1**4)+np.log(1+r1**8)+np.log(1+r1**16)+np.log(1+r1**32)\n",
    "den1 = np.log(1+r1+r1**2)+np.log(1+r1**3)+np.log(1+r1**6)+np.log(1+r1**12)+np.log(1+r1**24)+np.log(1+r1**48)\n",
    "\n",
    "all_distance = np.exp(num1-den1)\n",
    "\n",
    "np.save('SwitchingFunctionCA_BPTI.npy',all_distance)"
   ]
  }
 ],
 "metadata": {
  "kernelspec": {
   "display_name": "Python 2",
   "language": "python",
   "name": "python2"
  },
  "language_info": {
   "codemirror_mode": {
    "name": "ipython",
    "version": 2
   },
   "file_extension": ".py",
   "mimetype": "text/x-python",
   "name": "python",
   "nbconvert_exporter": "python",
   "pygments_lexer": "ipython2",
   "version": "2.7.9"
  }
 },
 "nbformat": 4,
 "nbformat_minor": 0
}
